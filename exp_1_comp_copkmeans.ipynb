{
 "cells": [
  {
   "cell_type": "markdown",
   "metadata": {},
   "source": [
    "## Experiment 1 : Comparing our implementation of CopKMeans with an existing one"
   ]
  },
  {
   "cell_type": "markdown",
   "metadata": {},
   "source": [
    "### Loading useful libraries"
   ]
  },
  {
   "cell_type": "code",
   "execution_count": 1,
   "metadata": {},
   "outputs": [],
   "source": [
    "import numpy as np\n",
    "from sklearn.datasets import make_classification\n",
    "from cop_kmeans import CopKMeans\n",
    "import matplotlib.pyplot as plt\n",
    "from active_semi_clustering.semi_supervised.pairwise_constraints import COPKMeans\n",
    "from sklearn.metrics import mutual_info_score, adjusted_mutual_info_score, normalized_mutual_info_score\n",
    "import os\n",
    "import pandas as pd\n",
    "from itertools import product"
   ]
  },
  {
   "cell_type": "markdown",
   "metadata": {},
   "source": [
    "### Getting the datasets names"
   ]
  },
  {
   "cell_type": "code",
   "execution_count": 2,
   "metadata": {},
   "outputs": [],
   "source": [
    "datasets = []\n",
    "folder_data = 'data_processed/'\n",
    "for file in os.listdir(folder_data):\n",
    "    datasets.append('data_processed/' + file)"
   ]
  },
  {
   "cell_type": "code",
   "execution_count": 3,
   "metadata": {},
   "outputs": [
    {
     "name": "stdout",
     "output_type": "stream",
     "text": [
      "data_processed/magic04.csv 19020\n",
      "data_processed/connect-4.csv 67557\n",
      "data_processed/dermatology.csv 358\n",
      "data_processed/nursery.csv 12960\n",
      "data_processed/tae.csv 151\n",
      "data_processed/winequality-white.csv 4898\n",
      "data_processed/dataset_18_mfeat-morphological.csv 2000\n",
      "data_processed/lymphography.csv 148\n",
      "data_processed/balance-scale.csv 625\n",
      "data_processed/car.csv 1728\n",
      "data_processed/appendicitis.csv 106\n",
      "data_processed/monks-problems-2.csv 601\n",
      "data_processed/jungle_chess_2pcs_raw_endgame_complete.csv 44819\n",
      "data_processed/heart_failure_clinical_records_dataset.csv 299\n",
      "data_processed/online_shoppers_intention.csv 12245\n",
      "data_processed/irish.csv 474\n",
      "data_processed/blood-transfusion-service-center.csv 748\n",
      "data_processed/analcatdata_chlamydia.csv 100\n",
      "data_processed/hayes_roth.csv 132\n",
      "data_processed/artificial-characters.csv 10218\n"
     ]
    }
   ],
   "source": [
    "for file in datasets:\n",
    "    df = pd.read_csv(file)\n",
    "    print(file, len(df))"
   ]
  },
  {
   "cell_type": "markdown",
   "metadata": {},
   "source": [
    "### Function to calculate and return a percentage of all constraints"
   ]
  },
  {
   "cell_type": "code",
   "execution_count": 4,
   "metadata": {},
   "outputs": [],
   "source": [
    "def calculate_constraints(X, y, perc):\n",
    "    ml = []\n",
    "    cl = []\n",
    "\n",
    "    n = len(y)\n",
    "    idx1 = np.random.choice(list(range(n)), int(np.sqrt(perc)*len(y)))\n",
    "\n",
    "    idx2 = np.random.choice(list(range(n)), int(np.sqrt(perc)*len(y)))\n",
    "\n",
    "    sampled_pairs = list(product(y[idx1], y[idx2]))\n",
    "\n",
    "\n",
    "    for pt1, pt2 in sampled_pairs:\n",
    "        if y[pt1] == y[pt2] and pt1 != pt2:\n",
    "            ml.append((pt1, pt2))\n",
    "        elif y[pt1] != y[pt2]:\n",
    "            cl.append((pt1, pt2))\n",
    "\n",
    "    # Sampling 10% of ml and 10% of cl\n",
    "    ml, cl = np.array(ml), np.array(cl)\n",
    "    # ml_subset = ml[np.random.choice(len(ml), int(perc*len(ml)))]\n",
    "    # cl_subset = cl[np.random.choice(len(cl), int(perc*len(cl)))]\n",
    "\n",
    "    ml = [tuple(l) for l in ml]\n",
    "    cl = [tuple(l) for l in cl]\n",
    "    \n",
    "    return ml, cl"
   ]
  },
  {
   "cell_type": "code",
   "execution_count": 10,
   "metadata": {},
   "outputs": [],
   "source": [
    "def our_cop(X, y, ml, cl):\n",
    "    model = CopKMeans(3, 200)\n",
    "\n",
    "    # model.fit(X, pairwise_constraints[0], pairwise_constraints[1])\n",
    "    model.fit(X, ml, cl)\n",
    "\n",
    "    try:\n",
    "        prediction = model.predict(X)\n",
    "    except:\n",
    "        return -1, -1\n",
    "\n",
    "    nmi = normalized_mutual_info_score(y, prediction)\n",
    "    ami = adjusted_mutual_info_score(y, prediction)\n",
    "\n",
    "    print(f\"Our model : {nmi = }, {ami = }\")\n",
    "    \n",
    "    return nmi, ami"
   ]
  },
  {
   "cell_type": "code",
   "execution_count": 26,
   "metadata": {},
   "outputs": [],
   "source": [
    "def theirs(X, y, ml, cl):\n",
    "\n",
    "    model = COPKMeans(3, 200)\n",
    "\n",
    "    try:\n",
    "        model.fit(X, ml, cl)\n",
    "    # prediction = model.predict(X)\n",
    "    except:\n",
    "        return -1, -1\n",
    "\n",
    "    nmi = normalized_mutual_info_score(y, model.labels_)\n",
    "    ami = adjusted_mutual_info_score(y, model.labels_)\n",
    "\n",
    "    print(f\"Theirs : {nmi = }, {ami = }\")\n",
    "    \n",
    "    return nmi, ami"
   ]
  },
  {
   "cell_type": "markdown",
   "metadata": {},
   "source": [
    "### Running both algorithms on 20 datasets"
   ]
  },
  {
   "cell_type": "code",
   "execution_count": 31,
   "metadata": {},
   "outputs": [
    {
     "name": "stdout",
     "output_type": "stream",
     "text": [
      "0 data_processed/magic04.csv (19020, 11)\n",
      "Itération 0\n",
      "Itération 50\n",
      "Itération 100\n",
      "Itération 150\n",
      "Our model : nmi = 0.015047632276512672, ami = 0.014985965631531293\n"
     ]
    },
    {
     "ename": "",
     "evalue": "",
     "output_type": "error",
     "traceback": [
      "\u001b[1;31mThe Kernel crashed while executing code in the the current cell or a previous cell. Please review the code in the cell(s) to identify a possible cause of the failure. Click <a href='https://aka.ms/vscodeJupyterKernelCrash'>here</a> for more info. View Jupyter <a href='command:jupyter.viewOutput'>log</a> for further details."
     ]
    }
   ],
   "source": [
    "# Dataset, algorithm, metric\n",
    "scores = np.zeros((len(datasets), 2, 2))\n",
    "\n",
    "for idx_data, file in enumerate(datasets):\n",
    "    # if idx_data in [0, 1, 3, 5, 12, 14, 19]:\n",
    "    #     continue\n",
    "    if idx_data in [1, 12]:\n",
    "        continue\n",
    "    \n",
    "    data = pd.read_csv(file)\n",
    "    print(idx_data, file, data.shape)\n",
    "\n",
    "    X, y = data.iloc[:,:-1].to_numpy(), data.iloc[:,-1].to_numpy().reshape(-1)\n",
    "\n",
    "    ml, cl = calculate_constraints(X, y, 0.1)\n",
    "\n",
    "    # print(pairwise_constraints)\n",
    "    # print(len(pairwise_constraints[0]), len(pairwise_constraints[1]))\n",
    "    # ml, cl = pairwise_constraints[0], pairwise_constraints[1]\n",
    "\n",
    "    nmi, ami = our_cop(X, y, ml, cl)\n",
    "    scores[idx_data, 0] = [nmi, ami]\n",
    "\n",
    "    nmi, ami = theirs(X, y, ml, cl)\n",
    "    scores[idx_data, 1] = [nmi, ami]\n"
   ]
  },
  {
   "cell_type": "code",
   "execution_count": 28,
   "metadata": {},
   "outputs": [
    {
     "name": "stdout",
     "output_type": "stream",
     "text": [
      "[[[ 0.00000000e+00  0.00000000e+00]\n",
      "  [ 0.00000000e+00  0.00000000e+00]]\n",
      "\n",
      " [[ 0.00000000e+00  0.00000000e+00]\n",
      "  [ 0.00000000e+00  0.00000000e+00]]\n",
      "\n",
      " [[-1.00000000e+00 -1.00000000e+00]\n",
      "  [ 6.87273964e-02  5.90395260e-02]]\n",
      "\n",
      " [[ 0.00000000e+00  0.00000000e+00]\n",
      "  [ 0.00000000e+00  0.00000000e+00]]\n",
      "\n",
      " [[ 5.75504223e-03 -6.60985774e-03]\n",
      "  [ 3.20808765e-03 -9.23970856e-03]]\n",
      "\n",
      " [[ 0.00000000e+00  0.00000000e+00]\n",
      "  [ 0.00000000e+00  0.00000000e+00]]\n",
      "\n",
      " [[ 4.20659860e-01  4.19100477e-01]\n",
      "  [ 4.08175527e-01  4.06577316e-01]]\n",
      "\n",
      " [[-1.00000000e+00 -1.00000000e+00]\n",
      "  [ 8.63445144e-02  5.00059127e-02]]\n",
      "\n",
      " [[ 8.56550857e-02  8.27103837e-02]\n",
      "  [-1.00000000e+00 -1.00000000e+00]]\n",
      "\n",
      " [[ 7.96126712e-02  7.79231975e-02]\n",
      "  [ 2.86459276e-02  2.68824414e-02]]\n",
      "\n",
      " [[ 1.79390182e-01  1.68684364e-01]\n",
      "  [ 2.16174758e-01  2.05916740e-01]]\n",
      "\n",
      " [[ 5.20504489e-03  3.22291706e-03]\n",
      "  [ 1.77124596e-03 -2.17642413e-04]]\n",
      "\n",
      " [[ 0.00000000e+00  0.00000000e+00]\n",
      "  [ 0.00000000e+00  0.00000000e+00]]\n",
      "\n",
      " [[ 6.85967600e-03  2.64688636e-03]\n",
      "  [ 7.42935269e-03  3.07975827e-03]]\n",
      "\n",
      " [[ 0.00000000e+00  0.00000000e+00]\n",
      "  [ 0.00000000e+00  0.00000000e+00]]\n",
      "\n",
      " [[ 8.48742563e-02  8.26410896e-02]\n",
      "  [ 8.09623485e-02  7.87291976e-02]]\n",
      "\n",
      " [[ 3.39973858e-02  3.22075427e-02]\n",
      "  [ 3.30467790e-02  3.12317423e-02]]\n",
      "\n",
      " [[ 2.09490192e-01  1.98352233e-01]\n",
      "  [ 2.15716271e-01  2.03541367e-01]]\n",
      "\n",
      " [[ 1.91309881e-02  4.33432257e-03]\n",
      "  [ 1.39014760e-01  1.25709732e-01]]\n",
      "\n",
      " [[ 0.00000000e+00  0.00000000e+00]\n",
      "  [ 0.00000000e+00  0.00000000e+00]]]\n"
     ]
    }
   ],
   "source": [
    "# For 50% of links\n",
    "print(scores)"
   ]
  },
  {
   "cell_type": "code",
   "execution_count": 30,
   "metadata": {},
   "outputs": [
    {
     "name": "stdout",
     "output_type": "stream",
     "text": [
      "[[[ 0.00000000e+00  0.00000000e+00]\n",
      "  [ 0.00000000e+00  0.00000000e+00]]\n",
      "\n",
      " [[ 0.00000000e+00  0.00000000e+00]\n",
      "  [ 0.00000000e+00  0.00000000e+00]]\n",
      "\n",
      " [[-1.00000000e+00 -1.00000000e+00]\n",
      "  [ 5.35928902e-02  4.38029955e-02]]\n",
      "\n",
      " [[ 0.00000000e+00  0.00000000e+00]\n",
      "  [ 0.00000000e+00  0.00000000e+00]]\n",
      "\n",
      " [[ 1.44323841e-02  1.96936674e-03]\n",
      "  [ 8.31684029e-03 -4.13977000e-03]]\n",
      "\n",
      " [[ 0.00000000e+00  0.00000000e+00]\n",
      "  [ 0.00000000e+00  0.00000000e+00]]\n",
      "\n",
      " [[ 4.17527483e-01  4.15959212e-01]\n",
      "  [ 4.08175527e-01  4.06577316e-01]]\n",
      "\n",
      " [[-1.00000000e+00 -1.00000000e+00]\n",
      "  [ 3.69143999e-02 -4.03753955e-03]]\n",
      "\n",
      " [[ 3.27724892e-02  2.96540240e-02]\n",
      "  [-1.00000000e+00 -1.00000000e+00]]\n",
      "\n",
      " [[ 2.94194587e-02  2.76586973e-02]\n",
      "  [ 2.25039944e-01  2.23635897e-01]]\n",
      "\n",
      " [[ 1.60870372e-01  1.49085710e-01]\n",
      "  [ 1.57240611e-01  1.45185096e-01]]\n",
      "\n",
      " [[ 5.12172234e-04 -1.46643864e-03]\n",
      "  [ 3.55585629e-03  1.59069933e-03]]\n",
      "\n",
      " [[ 0.00000000e+00  0.00000000e+00]\n",
      "  [ 0.00000000e+00  0.00000000e+00]]\n",
      "\n",
      " [[ 9.34456284e-03  5.00773949e-03]\n",
      "  [ 4.40985743e-03  1.77805666e-04]]\n",
      "\n",
      " [[ 0.00000000e+00  0.00000000e+00]\n",
      "  [ 0.00000000e+00  0.00000000e+00]]\n",
      "\n",
      " [[ 1.22014502e-01  1.19918972e-01]\n",
      "  [ 8.20157359e-02  7.97856008e-02]]\n",
      "\n",
      " [[ 2.86333064e-02  2.64657534e-02]\n",
      "  [ 3.30467790e-02  3.12317423e-02]]\n",
      "\n",
      " [[ 1.51725815e-01  1.40345587e-01]\n",
      "  [ 1.25487206e-01  1.13754968e-01]]\n",
      "\n",
      " [[ 8.38798628e-02  7.05327563e-02]\n",
      "  [ 6.85546378e-02  5.47685606e-02]]\n",
      "\n",
      " [[ 0.00000000e+00  0.00000000e+00]\n",
      "  [ 0.00000000e+00  0.00000000e+00]]]\n"
     ]
    }
   ],
   "source": [
    "# For 10% of links\n",
    "print(scores)"
   ]
  }
 ],
 "metadata": {
  "kernelspec": {
   "display_name": ".venv",
   "language": "python",
   "name": "python3"
  },
  "language_info": {
   "codemirror_mode": {
    "name": "ipython",
    "version": 3
   },
   "file_extension": ".py",
   "mimetype": "text/x-python",
   "name": "python",
   "nbconvert_exporter": "python",
   "pygments_lexer": "ipython3",
   "version": "3.10.12"
  },
  "orig_nbformat": 4
 },
 "nbformat": 4,
 "nbformat_minor": 2
}
